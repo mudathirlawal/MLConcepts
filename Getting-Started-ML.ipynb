{
  "nbformat": 4,
  "nbformat_minor": 0,
  "metadata": {
    "celltoolbar": "Slideshow",
    "kernelspec": {
      "display_name": "Python 3",
      "language": "python",
      "name": "python3"
    },
    "language_info": {
      "codemirror_mode": {
        "name": "ipython",
        "version": 3
      },
      "file_extension": ".py",
      "mimetype": "text/x-python",
      "name": "python",
      "nbconvert_exporter": "python",
      "pygments_lexer": "ipython3",
      "version": "3.6.4"
    },
    "colab": {
      "name": "ML-Week4.ipynb",
      "provenance": [],
      "include_colab_link": true
    }
  },
  "cells": [
    {
      "cell_type": "markdown",
      "metadata": {
        "id": "view-in-github",
        "colab_type": "text"
      },
      "source": [
        "<a href=\"https://colab.research.google.com/github/noahgift/MLConcepts/blob/main/Getting-Started-ML.ipynb\" target=\"_parent\"><img src=\"https://colab.research.google.com/assets/colab-badge.svg\" alt=\"Open In Colab\"/></a>"
      ]
    },
    {
      "cell_type": "markdown",
      "metadata": {
        "id": "8-PEO6sPbuO5"
      },
      "source": [
        "# ML Concepts"
      ]
    },
    {
      "cell_type": "markdown",
      "metadata": {
        "id": "Th45Bl1JeWib"
      },
      "source": [
        "### Key Statistical Concepts for ML"
      ]
    },
    {
      "cell_type": "markdown",
      "metadata": {
        "id": "bmH4_sU6eboA"
      },
      "source": [
        "\n",
        "\n",
        "*   Correlation\n",
        "*   Linear and Non-Linear Relationships\n",
        "\n"
      ]
    },
    {
      "cell_type": "markdown",
      "metadata": {
        "id": "0IgrU3i6XD-x"
      },
      "source": [
        "## Machine Learning Feedback Loop:  MLOps\n",
        "\n",
        "* collecting data\n",
        "* exploring (EDA) and preparing the data:  80% of the work\n",
        "* training a model on the data\n",
        "* evaluating model performance (deployment)\n",
        "* Improving model performance, if needed\n",
        "* Applying DevOps best practices:  Kaizen"
      ]
    },
    {
      "cell_type": "markdown",
      "metadata": {
        "id": "sHEMO4_MXD-x"
      },
      "source": [
        "![ML Pipeline Overview](https://user-images.githubusercontent.com/58792/35464450-d79e5804-02aa-11e8-84ba-77cee13af3c3.png)"
      ]
    },
    {
      "cell_type": "markdown",
      "metadata": {
        "id": "l7nnF43laadp"
      },
      "source": [
        "#### High Level R ML Pipeline (Using Caret Library)\n"
      ]
    },
    {
      "cell_type": "markdown",
      "metadata": {
        "id": "8yjPY8HhXD-x"
      },
      "source": [
        "\n",
        "\n",
        "```r\n",
        "#combine all data from facebook, twitter and wikipedia\n",
        "combined_model <- function(analytics_file){\n",
        "\tfb_data <- clean_facebook_data(analytics_file,10,10)\n",
        "\ttw_data <- clean_twitter_data(analytics_file,10)\n",
        "\twiki_data <- clean_wikipedia(analytics_file, 3)\n",
        "\tcombined <- merge(fb_data,tw_data,by='author_id')\n",
        "\tcombined <- merge(combined,wiki_data,by='author_id')\n",
        "\treturn(combined)\n",
        "}\n",
        "\n",
        "#determine knn clustering from combined model\n",
        "caret_knn <- function(knn_set, observed){\n",
        "\tknnFit <- train(knn_set, observed,\n",
        "                method=\"knn\", preProc=c(\"center\", \"scale\"),\n",
        "                tuneLength = 30,trainControl(method=\"cv\"))\n",
        "\treturn(knnFit)\n",
        "}\n",
        "\n",
        "\n",
        "#Read in the data, clean it up, and create test and training set\n",
        "prepare_network_data <- function(analytics_file, desired_cols, post_col) {\n",
        "    data <- clean_data(analytics_file, desired_cols, post_col, min_posts=10)\n",
        "\n",
        "    #Add grouping column by finding rows\n",
        "    data$gp <- runif(dim(data)[1])\n",
        "    test_set <- subset(data, gp <= 0.2)\n",
        "    training_set <- subset(data, gp > 0.2)\n",
        "    network_metadata <- list(data,test_set, training_set)\n",
        "    return(network_metadata)\n",
        "}\n",
        "\n",
        "#calculates Mean Absolute Error\n",
        "MAE <- function(actual, predicted){\n",
        "    result <- mean(abs(actual - predicted))\n",
        "    return(result)\n",
        "}\n",
        "```\n",
        "\n"
      ]
    },
    {
      "cell_type": "code",
      "metadata": {
        "id": "EH35tHRIXD-x",
        "colab": {
          "base_uri": "https://localhost:8080/",
          "height": 418
        },
        "outputId": "18cc7081-d3ab-4bce-cba3-0fba2195c6ab"
      },
      "source": [
        "import pandas as pd\n",
        "pd.set_option('display.float_format', lambda x: '%.3f' % x)\n",
        "import numpy as np\n",
        "import matplotlib.pyplot as plt\n",
        "import seaborn as sns\n",
        "import seaborn as sns; sns.set(color_codes=True)\n",
        "from sklearn.cluster import KMeans\n",
        "color = sns.color_palette()\n",
        "#from IPython.core.display import display, HTML\n",
        "#display(HTML(\"<style>.container { width:100% !important; }</style>\"))\n",
        "%matplotlib inline\n",
        "df = pd.read_csv(\"https://raw.githubusercontent.com/noahgift/ucdmsba-machine-learning/master/data/celebrity_rank.csv\")\n",
        "df.head(10)"
      ],
      "execution_count": null,
      "outputs": [
        {
          "output_type": "execute_result",
          "data": {
            "text/html": [
              "<div>\n",
              "<style scoped>\n",
              "    .dataframe tbody tr th:only-of-type {\n",
              "        vertical-align: middle;\n",
              "    }\n",
              "\n",
              "    .dataframe tbody tr th {\n",
              "        vertical-align: top;\n",
              "    }\n",
              "\n",
              "    .dataframe thead th {\n",
              "        text-align: right;\n",
              "    }\n",
              "</style>\n",
              "<table border=\"1\" class=\"dataframe\">\n",
              "  <thead>\n",
              "    <tr style=\"text-align: right;\">\n",
              "      <th></th>\n",
              "      <th>twitter_rank</th>\n",
              "      <th>facebook_rank</th>\n",
              "      <th>other_rank</th>\n",
              "      <th>page_views</th>\n",
              "      <th>number_of_posts</th>\n",
              "      <th>median_page_views_post</th>\n",
              "      <th>cum pageviews</th>\n",
              "      <th>total pageviews</th>\n",
              "      <th>cum percentage pageviews</th>\n",
              "    </tr>\n",
              "  </thead>\n",
              "  <tbody>\n",
              "    <tr>\n",
              "      <th>0</th>\n",
              "      <td>59</td>\n",
              "      <td>6</td>\n",
              "      <td>45</td>\n",
              "      <td>238871</td>\n",
              "      <td>59</td>\n",
              "      <td>943.000</td>\n",
              "      <td>238871</td>\n",
              "      <td>1932905</td>\n",
              "      <td>12.36%</td>\n",
              "    </tr>\n",
              "    <tr>\n",
              "      <th>1</th>\n",
              "      <td>52</td>\n",
              "      <td>7</td>\n",
              "      <td>159</td>\n",
              "      <td>169154</td>\n",
              "      <td>119</td>\n",
              "      <td>675.500</td>\n",
              "      <td>408025</td>\n",
              "      <td>1932905</td>\n",
              "      <td>21.11%</td>\n",
              "    </tr>\n",
              "    <tr>\n",
              "      <th>2</th>\n",
              "      <td>3</td>\n",
              "      <td>2</td>\n",
              "      <td>153</td>\n",
              "      <td>165224</td>\n",
              "      <td>13</td>\n",
              "      <td>9448.000</td>\n",
              "      <td>573249</td>\n",
              "      <td>1932905</td>\n",
              "      <td>29.66%</td>\n",
              "    </tr>\n",
              "    <tr>\n",
              "      <th>3</th>\n",
              "      <td>1</td>\n",
              "      <td>3</td>\n",
              "      <td>152</td>\n",
              "      <td>118696</td>\n",
              "      <td>10</td>\n",
              "      <td>10761.000</td>\n",
              "      <td>691945</td>\n",
              "      <td>1932905</td>\n",
              "      <td>35.80%</td>\n",
              "    </tr>\n",
              "    <tr>\n",
              "      <th>4</th>\n",
              "      <td>10</td>\n",
              "      <td>4</td>\n",
              "      <td>154</td>\n",
              "      <td>107180</td>\n",
              "      <td>7</td>\n",
              "      <td>5864.000</td>\n",
              "      <td>799125</td>\n",
              "      <td>1932905</td>\n",
              "      <td>41.34%</td>\n",
              "    </tr>\n",
              "    <tr>\n",
              "      <th>5</th>\n",
              "      <td>6</td>\n",
              "      <td>30</td>\n",
              "      <td>156</td>\n",
              "      <td>94387</td>\n",
              "      <td>31</td>\n",
              "      <td>1265.000</td>\n",
              "      <td>893512</td>\n",
              "      <td>1932905</td>\n",
              "      <td>46.23%</td>\n",
              "    </tr>\n",
              "    <tr>\n",
              "      <th>6</th>\n",
              "      <td>2</td>\n",
              "      <td>35</td>\n",
              "      <td>155</td>\n",
              "      <td>92604</td>\n",
              "      <td>31</td>\n",
              "      <td>2604.000</td>\n",
              "      <td>986116</td>\n",
              "      <td>1932905</td>\n",
              "      <td>51.02%</td>\n",
              "    </tr>\n",
              "    <tr>\n",
              "      <th>7</th>\n",
              "      <td>38</td>\n",
              "      <td>19</td>\n",
              "      <td>165</td>\n",
              "      <td>78262</td>\n",
              "      <td>24</td>\n",
              "      <td>252.000</td>\n",
              "      <td>1064378</td>\n",
              "      <td>1932905</td>\n",
              "      <td>55.07%</td>\n",
              "    </tr>\n",
              "    <tr>\n",
              "      <th>8</th>\n",
              "      <td>11</td>\n",
              "      <td>5</td>\n",
              "      <td>126</td>\n",
              "      <td>46037</td>\n",
              "      <td>14</td>\n",
              "      <td>1864.500</td>\n",
              "      <td>1110415</td>\n",
              "      <td>1932905</td>\n",
              "      <td>57.45%</td>\n",
              "    </tr>\n",
              "    <tr>\n",
              "      <th>9</th>\n",
              "      <td>75</td>\n",
              "      <td>10</td>\n",
              "      <td>163</td>\n",
              "      <td>42456</td>\n",
              "      <td>45</td>\n",
              "      <td>419.000</td>\n",
              "      <td>1152871</td>\n",
              "      <td>1932905</td>\n",
              "      <td>59.64%</td>\n",
              "    </tr>\n",
              "  </tbody>\n",
              "</table>\n",
              "</div>"
            ],
            "text/plain": [
              "   twitter_rank  facebook_rank  ...  total pageviews  cum percentage pageviews\n",
              "0            59              6  ...          1932905                    12.36%\n",
              "1            52              7  ...          1932905                    21.11%\n",
              "2             3              2  ...          1932905                    29.66%\n",
              "3             1              3  ...          1932905                    35.80%\n",
              "4            10              4  ...          1932905                    41.34%\n",
              "5             6             30  ...          1932905                    46.23%\n",
              "6             2             35  ...          1932905                    51.02%\n",
              "7            38             19  ...          1932905                    55.07%\n",
              "8            11              5  ...          1932905                    57.45%\n",
              "9            75             10  ...          1932905                    59.64%\n",
              "\n",
              "[10 rows x 9 columns]"
            ]
          },
          "metadata": {
            "tags": []
          },
          "execution_count": 1
        }
      ]
    },
    {
      "cell_type": "markdown",
      "metadata": {
        "id": "fIOYG3d3bCa4"
      },
      "source": [
        "### Non-Linear Relationship Doesn't Work Great with Vanilla Linear Regression"
      ]
    },
    {
      "cell_type": "markdown",
      "metadata": {
        "id": "YHXXhlduXD-y"
      },
      "source": [
        "\n",
        "\n",
        "* One reason why 80% of the time should be spent in EDA and collection\n",
        "* Need to have enough data\n",
        "* Need to know shape of data:  linear...or non-linear?\n",
        "* Be humble, especially with money or people's lives at stake"
      ]
    },
    {
      "cell_type": "code",
      "metadata": {
        "id": "dWmIYQBUXD-y",
        "colab": {
          "base_uri": "https://localhost:8080/",
          "height": 551
        },
        "outputId": "d10f2a7f-471a-4591-91c0-22089fff21b1"
      },
      "source": [
        "fig, ax = plt.subplots()\n",
        "ax.set_title('Celebrity Power Law at Work')\n",
        "fig.set_size_inches(11.7, 8.27)\n",
        "sns.regplot(x=df[\"cum pageviews\"], y=df[\"number_of_posts\"], color=\"g\",logx=True, ax=ax)\n"
      ],
      "execution_count": null,
      "outputs": [
        {
          "output_type": "execute_result",
          "data": {
            "text/plain": [
              "<matplotlib.axes._subplots.AxesSubplot at 0x7f1919a4a050>"
            ]
          },
          "metadata": {
            "tags": []
          },
          "execution_count": 2
        },
        {
          "output_type": "display_data",
          "data": {
            "image/png": "[encoded data removed]",
            "text/plain": [
              "<Figure size 842.4x595.44 with 1 Axes>"
            ]
          },
          "metadata": {
            "tags": [],
            "needs_background": "light"
          }
        }
      ]
    },
    {
      "cell_type": "markdown",
      "metadata": {
        "id": "ts8PzVXNXD-z"
      },
      "source": [
        "#### What Happened In Real Life to Prediction Model\n",
        "\n",
        "## (Note Millions of Dollars are behind this model!)\n",
        "![Predicted vs Actual](https://user-images.githubusercontent.com/58792/35465715-e5de43c2-02b2-11e8-9a9e-104d9eca387e.png)"
      ]
    },
    {
      "cell_type": "markdown",
      "metadata": {
        "id": "9c0m_-0tXD-z"
      },
      "source": [
        "#### Actual Pageviews After ML Model Goes Live\n",
        "![Actual Pageviews](https://user-images.githubusercontent.com/58792/35465722-f077040e-02b2-11e8-87bf-1a17426b7dcb.png)\n"
      ]
    },
    {
      "cell_type": "markdown",
      "metadata": {
        "id": "o8wjMdceXD-z"
      },
      "source": [
        "#### AI/ML Product Development\n",
        "\n",
        "### Good example of clustering business use case in Action\n",
        "### Works as a companion to ML model (helping explain it further)\n",
        "![ML Web Appplication](https://user-images.githubusercontent.com/58792/35465731-fa6d6c28-02b2-11e8-8d9d-af142a5448e2.png)\n"
      ]
    },
    {
      "cell_type": "markdown",
      "metadata": {
        "id": "HweQOBr-XD-z"
      },
      "source": [
        "## Linear Regression"
      ]
    },
    {
      "cell_type": "markdown",
      "metadata": {
        "id": "I_LE7V7HXD-0"
      },
      "source": [
        "### Linear Regression is the 800 lb Gorilla prediction\n",
        "\n",
        "* Never a bad place to start\n",
        "* Can even think about linear regression as a form of EDA\n",
        "* Even against some non-linear data it performs ok\n"
      ]
    },
    {
      "cell_type": "markdown",
      "metadata": {
        "id": "7Yv7kCNCaIRC"
      },
      "source": [
        "#### What is linear regression used for?"
      ]
    },
    {
      "cell_type": "markdown",
      "metadata": {
        "id": "Iw9I_HHvXD-0"
      },
      "source": [
        "\n",
        "\n",
        "* One view of machine learning is that ML consists of development of regression models with the Prediction goal\n",
        "(matloff)\n",
        "* Predicting a continuous variable\n",
        "* Forecasting the future\n",
        "\n",
        "![Linear Regression](http://scikit-learn.org/stable/_images/sphx_glr_plot_ols_001.png)"
      ]
    },
    {
      "cell_type": "markdown",
      "metadata": {
        "id": "wBuKoxtPaNjf"
      },
      "source": [
        "#### Libraries for ML based Linear Regression"
      ]
    },
    {
      "cell_type": "markdown",
      "metadata": {
        "id": "n9duhk-IXD-0"
      },
      "source": [
        "\n",
        "* In Python [scikit-learn](http://scikit-learn.org/stable/auto_examples/linear_model/plot_ols.html).  Many different techniques to explore.\n",
        "\n",
        "- Ordinary Least Squares\n",
        "- Ridge Regression\n",
        "- Lasso\n",
        "- Bayesian Regression\n",
        "- Robustness regression\n",
        "\n",
        "* In R [Caret](https://topepo.github.io/caret/model-training-and-tuning.html)\n",
        "- knnRegression\n",
        "- (too many to mention)\n",
        "- Lots of help with [splitting data](https://topepo.github.io/caret/data-splitting.html)\n",
        "\n",
        "\n"
      ]
    },
    {
      "cell_type": "markdown",
      "metadata": {
        "id": "GI_4s4V5XD-0"
      },
      "source": [
        "##### Biggest Takeaways from classic linear regression\n",
        "\n",
        "* Use cross-fold validation techniques\n",
        "* Judge performance using metrics like RMSE (Root Mean Square Error) vs R-Squared and P-Value"
      ]
    },
    {
      "cell_type": "markdown",
      "metadata": {
        "id": "GC1zOiK3b70M"
      },
      "source": [
        "## Clustering"
      ]
    },
    {
      "cell_type": "markdown",
      "metadata": {
        "id": "r9Tgi-eJd8KE"
      },
      "source": [
        "Unsupervised Machine Learning technique that discovers hidden labels"
      ]
    },
    {
      "cell_type": "markdown",
      "metadata": {
        "id": "ijDpVXxOXD-1"
      },
      "source": [
        "#### Exploration of Zillow Home Prices \n"
      ]
    },
    {
      "cell_type": "code",
      "metadata": {
        "id": "Bf8jMUL4XD-1"
      },
      "source": [
        ""
      ],
      "execution_count": null,
      "outputs": []
    }
  ]
}